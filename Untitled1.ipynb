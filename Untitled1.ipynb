{
 "cells": [
  {
   "cell_type": "code",
   "execution_count": 2,
   "id": "41a63251-e2d5-487a-84ba-4ef7fbdfcf85",
   "metadata": {},
   "outputs": [
    {
     "name": "stdout",
     "output_type": "stream",
     "text": [
      "Note: you may need to restart the kernel to use updated packages.\n"
     ]
    }
   ],
   "source": [
    "%pip install pandas numpy scikit-learn seaborn matplotlib joblib -q\n",
    "\n",
    "import os\n",
    "import urllib.request\n",
    "import pandas as pd\n",
    "import numpy as np\n",
    "import seaborn as sns\n",
    "import matplotlib.pyplot as plt\n",
    "from joblib import dump\n",
    "\n",
    "from sklearn.model_selection import train_test_split\n",
    "from sklearn.preprocessing import StandardScaler\n",
    "from sklearn.linear_model import LogisticRegression\n",
    "from sklearn.pipeline import Pipeline\n",
    "from sklearn.metrics import classification_report, accuracy_score, confusion_matrix\n",
    "\n",
    "%matplotlib inline"
   ]
  },
  {
   "cell_type": "code",
   "execution_count": 3,
   "id": "a5756306-ddde-4dc4-8f3d-34a62fe15310",
   "metadata": {},
   "outputs": [],
   "source": [
    "data_dir = 'data'\n",
    "if not os.path.exists(data_dir):\n",
    "    os.makedirs(data_dir)\n",
    "\n",
    "url = 'https://archive.ics.uci.edu/ml/machine-learning-databases/00547/Algerian_forest_fires_dataset_UPDATE.csv'\n",
    "file_path = os.path.join(data_dir, 'Algerian_forest_fires.csv')\n",
    "urllib.request.urlretrieve(url, file_path)\n",
    "\n",
    "df = pd.read_csv(file_path, header=1, skip_blank_lines=True)\n",
    "df.drop(122, inplace=True)\n",
    "df.reset_index(drop=True, inplace=True)\n",
    "\n",
    "df.columns = df.columns.str.strip()"
   ]
  },
  {
   "cell_type": "code",
   "execution_count": 4,
   "id": "12ca2b72-e7a7-442a-abea-e713d5dcdb2d",
   "metadata": {},
   "outputs": [],
   "source": [
    "df['Region'] = np.where(df.index < 122, 0, 1)\n",
    "\n",
    "for col in ['Temperature', 'RH', 'Ws', 'Rain', 'FFMC', 'DMC', 'DC', 'ISI', 'BUI', 'FWI']:\n",
    "    df[col] = pd.to_numeric(df[col], errors='coerce')\n",
    "\n",
    "df['Classes'] = df['Classes'].str.strip()\n",
    "df['Classes'] = df['Classes'].map({'not fire': 0, 'fire': 1})\n",
    "\n",
    "df.dropna(subset=['Classes'], inplace=True)\n",
    "df.fillna(df.median(numeric_only=True), inplace=True)\n",
    "\n",
    "df[['day', 'month', 'year', 'Temperature', 'RH', 'Ws', 'Region']] = df[['day', 'month', 'year', 'Temperature', 'RH', 'Ws', 'Region']].astype(int)\n",
    "df['Classes'] = df['Classes'].astype(int)"
   ]
  },
  {
   "cell_type": "code",
   "execution_count": 7,
   "id": "cbe66a63-c2ba-4543-bd5c-d79ce27186e1",
   "metadata": {},
   "outputs": [],
   "source": [
    "# Define target and identify columns to drop for the feature set\n",
    "y = df['Classes']\n",
    "columns_to_drop = ['Date', 'Classes', 'day', 'month', 'year']\n",
    "\n",
    "# Programmatically find which of these columns actually exist to avoid errors\n",
    "existing_columns_to_drop = [col for col in columns_to_drop if col in df.columns]\n",
    "\n",
    "# Create the feature set X by dropping the identified columns\n",
    "X = df.drop(columns=existing_columns_to_drop)\n",
    "\n",
    "# Split the data into training and testing sets\n",
    "X_train, X_test, y_train, y_test = train_test_split(X, y, test_size=0.2, random_state=42, stratify=y)"
   ]
  },
  {
   "cell_type": "code",
   "execution_count": 8,
   "id": "a3bf9f64-3366-4eb6-ac59-2050fccc4e09",
   "metadata": {},
   "outputs": [
    {
     "name": "stdout",
     "output_type": "stream",
     "text": [
      "Model Performance Metrics:\n",
      "Accuracy: 0.9388\n",
      "\n",
      "Classification Report:\n",
      "              precision    recall  f1-score   support\n",
      "\n",
      "    Not Fire       0.95      0.90      0.93        21\n",
      "        Fire       0.93      0.96      0.95        28\n",
      "\n",
      "    accuracy                           0.94        49\n",
      "   macro avg       0.94      0.93      0.94        49\n",
      "weighted avg       0.94      0.94      0.94        49\n",
      "\n"
     ]
    },
    {
     "data": {
      "image/png": "[encoded data removed]",
      "text/plain": [
       "<Figure size 800x600 with 2 Axes>"
      ]
     },
     "metadata": {},
     "output_type": "display_data"
    }
   ],
   "source": [
    "pipeline = Pipeline([\n",
    "    ('scaler', StandardScaler()),\n",
    "    ('classifier', LogisticRegression(random_state=42))\n",
    "])\n",
    "\n",
    "pipeline.fit(X_train, y_train)\n",
    "\n",
    "y_pred = pipeline.predict(X_test)\n",
    "\n",
    "print(\"Model Performance Metrics:\")\n",
    "print(f\"Accuracy: {accuracy_score(y_test, y_pred):.4f}\\n\")\n",
    "print(\"Classification Report:\")\n",
    "print(classification_report(y_test, y_pred, target_names=['Not Fire', 'Fire']))\n",
    "\n",
    "cm = confusion_matrix(y_test, y_pred)\n",
    "plt.figure(figsize=(8, 6))\n",
    "sns.heatmap(cm, annot=True, fmt='d', cmap='Blues', xticklabels=['Not Fire', 'Fire'], yticklabels=['Not Fire', 'Fire'])\n",
    "plt.title('Confusion Matrix', fontsize=16)\n",
    "plt.ylabel('Actual', fontsize=12)\n",
    "plt.xlabel('Predicted', fontsize=12)\n",
    "plt.show()"
   ]
  },
  {
   "cell_type": "code",
   "execution_count": 9,
   "id": "861849ba-6afa-43fe-b138-400efa7a95ee",
   "metadata": {},
   "outputs": [
    {
     "name": "stdout",
     "output_type": "stream",
     "text": [
      "\n",
      "Model pipeline saved successfully to 'forest_fire_prediction_pipeline.joblib'\n"
     ]
    }
   ],
   "source": [
    "from joblib import dump\n",
    "\n",
    "dump(pipeline, 'forest_fire_prediction_pipeline.joblib')\n",
    "\n",
    "print(\"\\nModel pipeline saved successfully to 'forest_fire_prediction_pipeline.joblib'\")"
   ]
  },
  {
   "cell_type": "code",
   "execution_count": null,
   "id": "bc34b94f-fb0f-476c-9ce4-5c6c72033aac",
   "metadata": {},
   "outputs": [],
   "source": []
  }
 ],
 "metadata": {
  "kernelspec": {
   "display_name": "Python 3 (ipykernel)",
   "language": "python",
   "name": "python3"
  },
  "language_info": {
   "codemirror_mode": {
    "name": "ipython",
    "version": 3
   },
   "file_extension": ".py",
   "mimetype": "text/x-python",
   "name": "python",
   "nbconvert_exporter": "python",
   "pygments_lexer": "ipython3",
   "version": "3.12.0"
  }
 },
 "nbformat": 4,
 "nbformat_minor": 5
}
